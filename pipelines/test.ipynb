{
 "cells": [
  {
   "cell_type": "code",
   "execution_count": 1,
   "metadata": {},
   "outputs": [],
   "source": [
    "import edgarFunctions as edgar"
   ]
  },
  {
   "cell_type": "code",
   "execution_count": 2,
   "metadata": {},
   "outputs": [],
   "source": [
    "edgar.generateTickersfile()"
   ]
  },
  {
   "cell_type": "code",
   "execution_count": 3,
   "metadata": {},
   "outputs": [],
   "source": [
    "aaplForm = edgar.get10K('aapl')['facts']['us-gaap']\n",
    "tslaForm = edgar.get10K('tsla')['facts']['us-gaap']\n",
    "amznForm = edgar.get10K('amzn')['facts']['us-gaap']"
   ]
  },
  {
   "cell_type": "code",
   "execution_count": 4,
   "metadata": {},
   "outputs": [
    {
     "data": {
      "text/plain": [
       "'The current period expense charged against earnings on long-lived, physical assets not used in production, and which are not intended for resale, to allocate or recognize the cost of such assets over their useful lives; or to record the reduction in book value of an intangible asset over the benefit period of such asset; or to reflect consumption during the period of an asset that is not used in production.'"
      ]
     },
     "execution_count": 4,
     "metadata": {},
     "output_type": "execute_result"
    }
   ],
   "source": [
    "tslaForm['DepreciationAndAmortization']['description']"
   ]
  },
  {
   "cell_type": "code",
   "execution_count": 21,
   "metadata": {},
   "outputs": [
    {
     "data": {
      "text/plain": [
       "{'AdvertisingRevenueCost': 0.0665,\n",
       " 'ContractWithCustomerLiabilityRevenueRecognized': 0.23,\n",
       " 'CostOfRevenue': 18.818,\n",
       " 'DeferredRevenue': 0.0007,\n",
       " 'DeferredRevenueAndCredits': 0.0,\n",
       " 'DeferredRevenueCurrent': 0.536465,\n",
       " 'DeferredRevenueNoncurrent': 0.81825,\n",
       " 'IncreaseDecreaseInDeferredRevenue': 0.107497,\n",
       " 'IncreaseDecreaseInDeferredRevenueAndCustomerAdvancesAndDeposits': 0.04292,\n",
       " 'OperatingLeasesIncomeStatementLeaseRevenue': 1.052,\n",
       " 'RevenueFromContractWithCustomerExcludingAssessedTax': 21.461268,\n",
       " 'Revenues': 23.329,\n",
       " 'SalesRevenueEnergyServices': 0.374408,\n",
       " 'SalesRevenueGoodsNet': 3.117865,\n",
       " 'SalesRevenueServicesNet': 0.005633,\n",
       " 'SalesTypeLeaseRevenue': 0.101,\n",
       " 'RevenueRemainingPerformanceObligation': 0.209}"
      ]
     },
     "execution_count": 21,
     "metadata": {},
     "output_type": "execute_result"
    }
   ],
   "source": [
    "edgar.findListValue(tslaForm, \"revenu\", -1)"
   ]
  },
  {
   "cell_type": "code",
   "execution_count": 15,
   "metadata": {},
   "outputs": [
    {
     "data": {
      "text/plain": [
       "{'AccruedMarketingCostsCurrent': 1.651,\n",
       " 'AvailableForSaleDebtSecuritiesAmortizedCostBasis': 192.582,\n",
       " 'AvailableForSaleSecuritiesAmortizedCost': 241.18,\n",
       " 'BusinessAcquisitionCostOfAcquiredEntityPurchasePrice': 2.6,\n",
       " 'CostOfGoodsAndServicesSold': 52.86,\n",
       " 'CostOfGoodsAndServicesSoldDepreciation': 9.3,\n",
       " 'CostOfReimbursableExpense': 1.5e-05,\n",
       " 'DebtInstrumentUnamortizedDiscountPremiumAndDebtIssuanceCostsNet': 0.374,\n",
       " 'DeferredTaxAssetsTaxDeferredExpenseCompensationAndBenefitsShareBasedCompensationCost': 0.749,\n",
       " 'DefinedContributionPlanCostRecognized': 0.2,\n",
       " 'EmployeeServiceShareBasedCompensationNonvestedAwardsTotalCompensationCostNotYetRecognized': 23.2,\n",
       " 'EmployeeServiceShareBasedCompensationNonvestedAwardsTotalCompensationCostNotYetRecognizedPeriodForRecognition': 3.74e-09,\n",
       " 'EmployeeServiceShareBasedCompensationUnrecognizedCompensationCostsOnNonvestedAwards': 2.8,\n",
       " 'EmployeeServiceShareBasedCompensationUnrecognizedCompensationCostsOnNonvestedAwardsWeightedAveragePeriodOfRecognition': 3.1e-09,\n",
       " 'IncomeTaxReconciliationNondeductibleExpenseShareBasedCompensationCost': 1.4,\n",
       " 'InterestCostsIncurred': 2.8,\n",
       " 'OperatingLeaseCost': 1.9,\n",
       " 'TreasuryStockValueAcquiredCostMethod': 45.0,\n",
       " 'VariableLeaseCost': 14.9}"
      ]
     },
     "execution_count": 15,
     "metadata": {},
     "output_type": "execute_result"
    }
   ],
   "source": [
    "edgar.findListValue(aaplForm, \"cost\", -1)"
   ]
  },
  {
   "cell_type": "code",
   "execution_count": 7,
   "metadata": {},
   "outputs": [
    {
     "data": {
      "text/plain": [
       "0.0"
      ]
     },
     "execution_count": 7,
     "metadata": {},
     "output_type": "execute_result"
    }
   ],
   "source": [
    "edgar.getVal(amznForm, \"OperatingIncomeLoss\", -1) - edgar.getVal(amznForm, \"OperatingIncomeLoss\", -1)"
   ]
  },
  {
   "cell_type": "code",
   "execution_count": 17,
   "metadata": {},
   "outputs": [],
   "source": [
    "def getEbitda(data, index):\n",
    "    incomeLossBefore = edgar.getVal(data, 'IncomeLossFromContinuingOperationsBeforeIncomeTaxesMinorityInterestAndIncomeLossFromEquityMethodInvestments', index)\n",
    "    if incomeLossBefore is None:\n",
    "        incomeLossBefore = edgar.getVal(data, 'IncomeLossFromContinuingOperationsBeforeIncomeTaxesExtraordinaryItemsNoncontrollingInterest', index)\n",
    "    revenue = edgar.getVal(data, 'RevenueFromContractWithCustomerExcludingAssessedTax', index)\n",
    "    if revenue is None:\n",
    "        revenue = edgar.getVal(data,'Revenues', index)\n",
    "    netIncome = edgar.getVal(data, \"NetIncomeLoss\", index)\n",
    "    cogs = edgar.getVal(data, 'CostOfGoodsSold', index)\n",
    "    if cogs is None:\n",
    "        cogs = edgar.getVal(data, 'CostOfGoodsAndServicesSold', index)\n",
    "    operatingExpense = edgar.getVal(data, \"OperatingExpenses\", index)\n",
    "    taxes = edgar.getVal(data, \"IncomeTaxExpenseBenefit\", index)\n",
    "    interestExpense = edgar.getVal(data, \"InterestExpense\", index)\n",
    "    depretAndAmort = edgar.getVal(data, \"DepreciationAndAmortization\", index)\n",
    "    return revenue - cogs - operatingExpense + depretAndAmort"
   ]
  },
  {
   "cell_type": "code",
   "execution_count": 18,
   "metadata": {},
   "outputs": [
    {
     "data": {
      "text/plain": [
       "17.500761999999998"
      ]
     },
     "execution_count": 18,
     "metadata": {},
     "output_type": "execute_result"
    }
   ],
   "source": [
    "getEbitda(tslaForm, -1)"
   ]
  },
  {
   "cell_type": "code",
   "execution_count": 19,
   "metadata": {},
   "outputs": [
    {
     "data": {
      "text/plain": [
       "54.71000000000001"
      ]
     },
     "execution_count": 19,
     "metadata": {},
     "output_type": "execute_result"
    }
   ],
   "source": [
    "getEbitda(amznForm, -1)"
   ]
  },
  {
   "cell_type": "code",
   "execution_count": 20,
   "metadata": {},
   "outputs": [
    {
     "data": {
      "text/plain": [
       "36.617999999999995"
      ]
     },
     "execution_count": 20,
     "metadata": {},
     "output_type": "execute_result"
    }
   ],
   "source": [
    "getEbitda(aaplForm, -1)"
   ]
  }
 ],
 "metadata": {
  "kernelspec": {
   "display_name": "delfos",
   "language": "python",
   "name": "python3"
  },
  "language_info": {
   "codemirror_mode": {
    "name": "ipython",
    "version": 3
   },
   "file_extension": ".py",
   "mimetype": "text/x-python",
   "name": "python",
   "nbconvert_exporter": "python",
   "pygments_lexer": "ipython3",
   "version": "3.11.3"
  },
  "orig_nbformat": 4
 },
 "nbformat": 4,
 "nbformat_minor": 2
}
