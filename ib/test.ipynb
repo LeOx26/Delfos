{
 "cells": [
  {
   "cell_type": "code",
   "execution_count": 12,
   "metadata": {},
   "outputs": [
    {
     "name": "stderr",
     "output_type": "stream",
     "text": [
      "2023-07-29 13:33:37,407 ib_insync.client INFO Connecting to 172.27.144.1:7497 with clientId 1...\n",
      "2023-07-29 13:33:37,409 ib_insync.client INFO Connected\n",
      "2023-07-29 13:33:41,414 ib_insync.client INFO Disconnecting\n",
      "2023-07-29 13:33:41,415 ib_insync.client ERROR API connection failed: TimeoutError()\n"
     ]
    },
    {
     "ename": "TimeoutError",
     "evalue": "",
     "output_type": "error",
     "traceback": [
      "\u001b[0;31m---------------------------------------------------------------------------\u001b[0m",
      "\u001b[0;31mCancelledError\u001b[0m                            Traceback (most recent call last)",
      "File \u001b[0;32m~/anaconda3/envs/delfos/lib/python3.10/asyncio/tasks.py:234\u001b[0m, in \u001b[0;36mTask.__step\u001b[0;34m(***failed resolving arguments***)\u001b[0m\n\u001b[1;32m    233\u001b[0m     \u001b[39melse\u001b[39;00m:\n\u001b[0;32m--> 234\u001b[0m         result \u001b[39m=\u001b[39m coro\u001b[39m.\u001b[39;49mthrow(exc)\n\u001b[1;32m    235\u001b[0m \u001b[39mexcept\u001b[39;00m \u001b[39mStopIteration\u001b[39;00m \u001b[39mas\u001b[39;00m exc:\n",
      "File \u001b[0;32m~/anaconda3/envs/delfos/lib/python3.10/asyncio/tasks.py:650\u001b[0m, in \u001b[0;36m_wrap_awaitable\u001b[0;34m(awaitable)\u001b[0m\n\u001b[1;32m    645\u001b[0m \u001b[39m\u001b[39m\u001b[39m\"\"\"Helper for asyncio.ensure_future().\u001b[39;00m\n\u001b[1;32m    646\u001b[0m \n\u001b[1;32m    647\u001b[0m \u001b[39mWraps awaitable (an object with __await__) into a coroutine\u001b[39;00m\n\u001b[1;32m    648\u001b[0m \u001b[39mthat will later be wrapped in a Task by ensure_future().\u001b[39;00m\n\u001b[1;32m    649\u001b[0m \u001b[39m\"\"\"\u001b[39;00m\n\u001b[0;32m--> 650\u001b[0m \u001b[39mreturn\u001b[39;00m (\u001b[39myield from\u001b[39;00m awaitable\u001b[39m.\u001b[39m\u001b[39m__await__\u001b[39m())\n",
      "File \u001b[0;32m~/anaconda3/envs/delfos/lib/python3.10/asyncio/futures.py:285\u001b[0m, in \u001b[0;36mFuture.__await__\u001b[0;34m(self)\u001b[0m\n\u001b[1;32m    284\u001b[0m     \u001b[39mself\u001b[39m\u001b[39m.\u001b[39m_asyncio_future_blocking \u001b[39m=\u001b[39m \u001b[39mTrue\u001b[39;00m\n\u001b[0;32m--> 285\u001b[0m     \u001b[39myield\u001b[39;00m \u001b[39mself\u001b[39m  \u001b[39m# This tells Task to wait for completion.\u001b[39;00m\n\u001b[1;32m    286\u001b[0m \u001b[39mif\u001b[39;00m \u001b[39mnot\u001b[39;00m \u001b[39mself\u001b[39m\u001b[39m.\u001b[39mdone():\n",
      "File \u001b[0;32m~/anaconda3/envs/delfos/lib/python3.10/asyncio/tasks.py:304\u001b[0m, in \u001b[0;36mTask.__wakeup\u001b[0;34m(self, future)\u001b[0m\n\u001b[1;32m    303\u001b[0m \u001b[39mtry\u001b[39;00m:\n\u001b[0;32m--> 304\u001b[0m     future\u001b[39m.\u001b[39;49mresult()\n\u001b[1;32m    305\u001b[0m \u001b[39mexcept\u001b[39;00m \u001b[39mBaseException\u001b[39;00m \u001b[39mas\u001b[39;00m exc:\n\u001b[1;32m    306\u001b[0m     \u001b[39m# This may also be a cancellation.\u001b[39;00m\n",
      "File \u001b[0;32m~/anaconda3/envs/delfos/lib/python3.10/asyncio/futures.py:196\u001b[0m, in \u001b[0;36mFuture.result\u001b[0;34m(self)\u001b[0m\n\u001b[1;32m    195\u001b[0m     exc \u001b[39m=\u001b[39m \u001b[39mself\u001b[39m\u001b[39m.\u001b[39m_make_cancelled_error()\n\u001b[0;32m--> 196\u001b[0m     \u001b[39mraise\u001b[39;00m exc\n\u001b[1;32m    197\u001b[0m \u001b[39mif\u001b[39;00m \u001b[39mself\u001b[39m\u001b[39m.\u001b[39m_state \u001b[39m!=\u001b[39m _FINISHED:\n",
      "\u001b[0;31mCancelledError\u001b[0m: ",
      "\nDuring handling of the above exception, another exception occurred:\n",
      "\u001b[0;31mCancelledError\u001b[0m                            Traceback (most recent call last)",
      "File \u001b[0;32m~/anaconda3/envs/delfos/lib/python3.10/asyncio/tasks.py:456\u001b[0m, in \u001b[0;36mwait_for\u001b[0;34m(fut, timeout)\u001b[0m\n\u001b[1;32m    455\u001b[0m \u001b[39mtry\u001b[39;00m:\n\u001b[0;32m--> 456\u001b[0m     \u001b[39mreturn\u001b[39;00m fut\u001b[39m.\u001b[39;49mresult()\n\u001b[1;32m    457\u001b[0m \u001b[39mexcept\u001b[39;00m exceptions\u001b[39m.\u001b[39mCancelledError \u001b[39mas\u001b[39;00m exc:\n",
      "File \u001b[0;32m~/anaconda3/envs/delfos/lib/python3.10/asyncio/futures.py:196\u001b[0m, in \u001b[0;36mFuture.result\u001b[0;34m(self)\u001b[0m\n\u001b[1;32m    195\u001b[0m     exc \u001b[39m=\u001b[39m \u001b[39mself\u001b[39m\u001b[39m.\u001b[39m_make_cancelled_error()\n\u001b[0;32m--> 196\u001b[0m     \u001b[39mraise\u001b[39;00m exc\n\u001b[1;32m    197\u001b[0m \u001b[39mif\u001b[39;00m \u001b[39mself\u001b[39m\u001b[39m.\u001b[39m_state \u001b[39m!=\u001b[39m _FINISHED:\n",
      "\u001b[0;31mCancelledError\u001b[0m: ",
      "\nThe above exception was the direct cause of the following exception:\n",
      "\u001b[0;31mTimeoutError\u001b[0m                              Traceback (most recent call last)",
      "Cell \u001b[0;32mIn[12], line 5\u001b[0m\n\u001b[1;32m      3\u001b[0m util\u001b[39m.\u001b[39mlogToConsole(\u001b[39m'\u001b[39m\u001b[39mDEBUG\u001b[39m\u001b[39m'\u001b[39m)\n\u001b[1;32m      4\u001b[0m ib \u001b[39m=\u001b[39m IB()\n\u001b[0;32m----> 5\u001b[0m ib\u001b[39m.\u001b[39;49mconnect(\u001b[39m'\u001b[39;49m\u001b[39m172.27.144.1\u001b[39;49m\u001b[39m'\u001b[39;49m)\n",
      "File \u001b[0;32m~/anaconda3/envs/delfos/lib/python3.10/site-packages/ib_insync/ib.py:279\u001b[0m, in \u001b[0;36mIB.connect\u001b[0;34m(self, host, port, clientId, timeout, readonly, account)\u001b[0m\n\u001b[1;32m    257\u001b[0m \u001b[39mdef\u001b[39;00m \u001b[39mconnect\u001b[39m(\n\u001b[1;32m    258\u001b[0m         \u001b[39mself\u001b[39m, host: \u001b[39mstr\u001b[39m \u001b[39m=\u001b[39m \u001b[39m'\u001b[39m\u001b[39m127.0.0.1\u001b[39m\u001b[39m'\u001b[39m, port: \u001b[39mint\u001b[39m \u001b[39m=\u001b[39m \u001b[39m7497\u001b[39m, clientId: \u001b[39mint\u001b[39m \u001b[39m=\u001b[39m \u001b[39m1\u001b[39m,\n\u001b[1;32m    259\u001b[0m         timeout: \u001b[39mfloat\u001b[39m \u001b[39m=\u001b[39m \u001b[39m4\u001b[39m, readonly: \u001b[39mbool\u001b[39m \u001b[39m=\u001b[39m \u001b[39mFalse\u001b[39;00m, account: \u001b[39mstr\u001b[39m \u001b[39m=\u001b[39m \u001b[39m'\u001b[39m\u001b[39m'\u001b[39m):\n\u001b[1;32m    260\u001b[0m \u001b[39m    \u001b[39m\u001b[39m\"\"\"\u001b[39;00m\n\u001b[1;32m    261\u001b[0m \u001b[39m    Connect to a running TWS or IB gateway application.\u001b[39;00m\n\u001b[1;32m    262\u001b[0m \u001b[39m    After the connection is made the client is fully synchronized\u001b[39;00m\n\u001b[0;32m   (...)\u001b[0m\n\u001b[1;32m    277\u001b[0m \u001b[39m        account: Main account to receive updates for.\u001b[39;00m\n\u001b[1;32m    278\u001b[0m \u001b[39m    \"\"\"\u001b[39;00m\n\u001b[0;32m--> 279\u001b[0m     \u001b[39mreturn\u001b[39;00m \u001b[39mself\u001b[39;49m\u001b[39m.\u001b[39;49m_run(\u001b[39mself\u001b[39;49m\u001b[39m.\u001b[39;49mconnectAsync(\n\u001b[1;32m    280\u001b[0m         host, port, clientId, timeout, readonly, account))\n",
      "File \u001b[0;32m~/anaconda3/envs/delfos/lib/python3.10/site-packages/ib_insync/ib.py:318\u001b[0m, in \u001b[0;36mIB._run\u001b[0;34m(self, *awaitables)\u001b[0m\n\u001b[1;32m    317\u001b[0m \u001b[39mdef\u001b[39;00m \u001b[39m_run\u001b[39m(\u001b[39mself\u001b[39m, \u001b[39m*\u001b[39mawaitables: Awaitable):\n\u001b[0;32m--> 318\u001b[0m     \u001b[39mreturn\u001b[39;00m util\u001b[39m.\u001b[39;49mrun(\u001b[39m*\u001b[39;49mawaitables, timeout\u001b[39m=\u001b[39;49m\u001b[39mself\u001b[39;49m\u001b[39m.\u001b[39;49mRequestTimeout)\n",
      "File \u001b[0;32m~/anaconda3/envs/delfos/lib/python3.10/site-packages/ib_insync/util.py:341\u001b[0m, in \u001b[0;36mrun\u001b[0;34m(timeout, *awaitables)\u001b[0m\n\u001b[1;32m    339\u001b[0m globalErrorEvent\u001b[39m.\u001b[39mconnect(onError)\n\u001b[1;32m    340\u001b[0m \u001b[39mtry\u001b[39;00m:\n\u001b[0;32m--> 341\u001b[0m     result \u001b[39m=\u001b[39m loop\u001b[39m.\u001b[39;49mrun_until_complete(task)\n\u001b[1;32m    342\u001b[0m \u001b[39mexcept\u001b[39;00m asyncio\u001b[39m.\u001b[39mCancelledError \u001b[39mas\u001b[39;00m e:\n\u001b[1;32m    343\u001b[0m     \u001b[39mraise\u001b[39;00m globalErrorEvent\u001b[39m.\u001b[39mvalue() \u001b[39mor\u001b[39;00m e\n",
      "File \u001b[0;32m~/anaconda3/envs/delfos/lib/python3.10/site-packages/nest_asyncio.py:90\u001b[0m, in \u001b[0;36m_patch_loop.<locals>.run_until_complete\u001b[0;34m(self, future)\u001b[0m\n\u001b[1;32m     87\u001b[0m \u001b[39mif\u001b[39;00m \u001b[39mnot\u001b[39;00m f\u001b[39m.\u001b[39mdone():\n\u001b[1;32m     88\u001b[0m     \u001b[39mraise\u001b[39;00m \u001b[39mRuntimeError\u001b[39;00m(\n\u001b[1;32m     89\u001b[0m         \u001b[39m'\u001b[39m\u001b[39mEvent loop stopped before Future completed.\u001b[39m\u001b[39m'\u001b[39m)\n\u001b[0;32m---> 90\u001b[0m \u001b[39mreturn\u001b[39;00m f\u001b[39m.\u001b[39;49mresult()\n",
      "File \u001b[0;32m~/anaconda3/envs/delfos/lib/python3.10/asyncio/futures.py:201\u001b[0m, in \u001b[0;36mFuture.result\u001b[0;34m(self)\u001b[0m\n\u001b[1;32m    199\u001b[0m \u001b[39mself\u001b[39m\u001b[39m.\u001b[39m__log_traceback \u001b[39m=\u001b[39m \u001b[39mFalse\u001b[39;00m\n\u001b[1;32m    200\u001b[0m \u001b[39mif\u001b[39;00m \u001b[39mself\u001b[39m\u001b[39m.\u001b[39m_exception \u001b[39mis\u001b[39;00m \u001b[39mnot\u001b[39;00m \u001b[39mNone\u001b[39;00m:\n\u001b[0;32m--> 201\u001b[0m     \u001b[39mraise\u001b[39;00m \u001b[39mself\u001b[39m\u001b[39m.\u001b[39m_exception\u001b[39m.\u001b[39mwith_traceback(\u001b[39mself\u001b[39m\u001b[39m.\u001b[39m_exception_tb)\n\u001b[1;32m    202\u001b[0m \u001b[39mreturn\u001b[39;00m \u001b[39mself\u001b[39m\u001b[39m.\u001b[39m_result\n",
      "File \u001b[0;32m~/anaconda3/envs/delfos/lib/python3.10/asyncio/tasks.py:232\u001b[0m, in \u001b[0;36mTask.__step\u001b[0;34m(***failed resolving arguments***)\u001b[0m\n\u001b[1;32m    228\u001b[0m \u001b[39mtry\u001b[39;00m:\n\u001b[1;32m    229\u001b[0m     \u001b[39mif\u001b[39;00m exc \u001b[39mis\u001b[39;00m \u001b[39mNone\u001b[39;00m:\n\u001b[1;32m    230\u001b[0m         \u001b[39m# We use the `send` method directly, because coroutines\u001b[39;00m\n\u001b[1;32m    231\u001b[0m         \u001b[39m# don't have `__iter__` and `__next__` methods.\u001b[39;00m\n\u001b[0;32m--> 232\u001b[0m         result \u001b[39m=\u001b[39m coro\u001b[39m.\u001b[39;49msend(\u001b[39mNone\u001b[39;49;00m)\n\u001b[1;32m    233\u001b[0m     \u001b[39melse\u001b[39;00m:\n\u001b[1;32m    234\u001b[0m         result \u001b[39m=\u001b[39m coro\u001b[39m.\u001b[39mthrow(exc)\n",
      "File \u001b[0;32m~/anaconda3/envs/delfos/lib/python3.10/site-packages/ib_insync/ib.py:1748\u001b[0m, in \u001b[0;36mIB.connectAsync\u001b[0;34m(self, host, port, clientId, timeout, readonly, account)\u001b[0m\n\u001b[1;32m   1745\u001b[0m timeout \u001b[39m=\u001b[39m timeout \u001b[39mor\u001b[39;00m \u001b[39mNone\u001b[39;00m\n\u001b[1;32m   1746\u001b[0m \u001b[39mtry\u001b[39;00m:\n\u001b[1;32m   1747\u001b[0m     \u001b[39m# establish API connection\u001b[39;00m\n\u001b[0;32m-> 1748\u001b[0m     \u001b[39mawait\u001b[39;00m \u001b[39mself\u001b[39m\u001b[39m.\u001b[39mclient\u001b[39m.\u001b[39mconnectAsync(host, port, clientId, timeout)\n\u001b[1;32m   1750\u001b[0m     \u001b[39m# autobind manual orders\u001b[39;00m\n\u001b[1;32m   1751\u001b[0m     \u001b[39mif\u001b[39;00m clientId \u001b[39m==\u001b[39m \u001b[39m0\u001b[39m:\n",
      "File \u001b[0;32m~/anaconda3/envs/delfos/lib/python3.10/site-packages/ib_insync/client.py:217\u001b[0m, in \u001b[0;36mClient.connectAsync\u001b[0;34m(self, host, port, clientId, timeout)\u001b[0m\n\u001b[1;32m    213\u001b[0m     msg \u001b[39m=\u001b[39m \u001b[39mb\u001b[39m\u001b[39m'\u001b[39m\u001b[39mAPI\u001b[39m\u001b[39m\\0\u001b[39;00m\u001b[39m'\u001b[39m \u001b[39m+\u001b[39m \u001b[39mself\u001b[39m\u001b[39m.\u001b[39m_prefix(\u001b[39mb\u001b[39m\u001b[39m'\u001b[39m\u001b[39mv\u001b[39m\u001b[39m%d\u001b[39;00m\u001b[39m..\u001b[39m\u001b[39m%d\u001b[39;00m\u001b[39m%s\u001b[39;00m\u001b[39m'\u001b[39m \u001b[39m%\u001b[39m (\n\u001b[1;32m    214\u001b[0m         \u001b[39mself\u001b[39m\u001b[39m.\u001b[39mMinClientVersion, \u001b[39mself\u001b[39m\u001b[39m.\u001b[39mMaxClientVersion,\n\u001b[1;32m    215\u001b[0m         \u001b[39mb\u001b[39m\u001b[39m'\u001b[39m\u001b[39m \u001b[39m\u001b[39m'\u001b[39m \u001b[39m+\u001b[39m \u001b[39mself\u001b[39m\u001b[39m.\u001b[39mconnectOptions \u001b[39mif\u001b[39;00m \u001b[39mself\u001b[39m\u001b[39m.\u001b[39mconnectOptions \u001b[39melse\u001b[39;00m \u001b[39mb\u001b[39m\u001b[39m'\u001b[39m\u001b[39m'\u001b[39m))\n\u001b[1;32m    216\u001b[0m     \u001b[39mself\u001b[39m\u001b[39m.\u001b[39mconn\u001b[39m.\u001b[39msendMsg(msg)\n\u001b[0;32m--> 217\u001b[0m     \u001b[39mawait\u001b[39;00m asyncio\u001b[39m.\u001b[39mwait_for(\u001b[39mself\u001b[39m\u001b[39m.\u001b[39mapiStart, timeout)\n\u001b[1;32m    218\u001b[0m     \u001b[39mself\u001b[39m\u001b[39m.\u001b[39m_logger\u001b[39m.\u001b[39minfo(\u001b[39m'\u001b[39m\u001b[39mAPI connection ready\u001b[39m\u001b[39m'\u001b[39m)\n\u001b[1;32m    219\u001b[0m \u001b[39mexcept\u001b[39;00m \u001b[39mBaseException\u001b[39;00m \u001b[39mas\u001b[39;00m e:\n",
      "File \u001b[0;32m~/anaconda3/envs/delfos/lib/python3.10/asyncio/tasks.py:458\u001b[0m, in \u001b[0;36mwait_for\u001b[0;34m(fut, timeout)\u001b[0m\n\u001b[1;32m    456\u001b[0m             \u001b[39mreturn\u001b[39;00m fut\u001b[39m.\u001b[39mresult()\n\u001b[1;32m    457\u001b[0m         \u001b[39mexcept\u001b[39;00m exceptions\u001b[39m.\u001b[39mCancelledError \u001b[39mas\u001b[39;00m exc:\n\u001b[0;32m--> 458\u001b[0m             \u001b[39mraise\u001b[39;00m exceptions\u001b[39m.\u001b[39mTimeoutError() \u001b[39mfrom\u001b[39;00m \u001b[39mexc\u001b[39;00m\n\u001b[1;32m    459\u001b[0m \u001b[39mfinally\u001b[39;00m:\n\u001b[1;32m    460\u001b[0m     timeout_handle\u001b[39m.\u001b[39mcancel()\n",
      "\u001b[0;31mTimeoutError\u001b[0m: "
     ]
    },
    {
     "name": "stderr",
     "output_type": "stream",
     "text": [
      "2023-07-29 13:33:41,490 ib_insync.client INFO Disconnected.\n"
     ]
    }
   ],
   "source": [
    "from ib_insync import *\n",
    "util.startLoop()\n",
    "util.logToConsole('DEBUG')\n",
    "ib = IB()\n",
    "ib.connect('172.27.144.1')"
   ]
  },
  {
   "cell_type": "code",
   "execution_count": null,
   "metadata": {},
   "outputs": [],
   "source": []
  }
 ],
 "metadata": {
  "kernelspec": {
   "display_name": "tf",
   "language": "python",
   "name": "python3"
  },
  "language_info": {
   "codemirror_mode": {
    "name": "ipython",
    "version": 3
   },
   "file_extension": ".py",
   "mimetype": "text/x-python",
   "name": "python",
   "nbconvert_exporter": "python",
   "pygments_lexer": "ipython3",
   "version": "3.10.12"
  },
  "orig_nbformat": 4
 },
 "nbformat": 4,
 "nbformat_minor": 2
}
