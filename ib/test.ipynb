{
 "cells": [
  {
   "cell_type": "code",
   "execution_count": 57,
   "metadata": {},
   "outputs": [
    {
     "data": {
      "text/plain": [
       "<IB connected to localhost:7497 clientId=1>"
      ]
     },
     "execution_count": 57,
     "metadata": {},
     "output_type": "execute_result"
    }
   ],
   "source": [
    "from ib_insync import *\n",
    "util.startLoop()\n",
    "ib = IB()\n",
    "ib.connect('localhost')"
   ]
  },
  {
   "cell_type": "code",
   "execution_count": 58,
   "metadata": {},
   "outputs": [],
   "source": [
    "from typing import List, Optional\n",
    "import jax.numpy as jnp"
   ]
  },
  {
   "cell_type": "code",
   "execution_count": 73,
   "metadata": {},
   "outputs": [],
   "source": [
    "from jax import Array\n",
    "\n",
    "\n",
    "class stock:\n",
    "\n",
    "    def __init__(self, stock: str, exchange: str, currency: str) -> None:\n",
    "        self.contract = Stock(stock, exchange, currency)\n",
    "        pass\n",
    "\n",
    "    def historial(self, endDateTime, durationStr, barSize, whatToShow, useRTH) -> Array:\n",
    "        return jnp.array([\n",
    "        (\n",
    "        item.date.timestamp(),\n",
    "        item.open,\n",
    "        item.high,\n",
    "        item.low,\n",
    "        item.close,\n",
    "        item.volume,\n",
    "        item.average,\n",
    "        item.barCount\n",
    "        )\n",
    "        for item in ib.reqHistoricalData(\n",
    "        self.contract,\n",
    "        endDateTime,\n",
    "        durationStr,\n",
    "        barSize,\n",
    "        whatToShow,\n",
    "        useRTH)\n",
    "        ], dtype='float32')\n",
    "\n"
   ]
  },
  {
   "cell_type": "code",
   "execution_count": 74,
   "metadata": {},
   "outputs": [
    {
     "name": "stdout",
     "output_type": "stream",
     "text": [
      "[[ 1.7012484e+09  1.9025000e+02  1.9025000e+02  1.8970000e+02\n",
      "   1.8989000e+02 -1.0000000e+00 -1.0000000e+00 -1.0000000e+00]\n",
      " [ 1.7012493e+09  1.8989000e+02  1.9020000e+02  1.8983000e+02\n",
      "   1.9019000e+02 -1.0000000e+00 -1.0000000e+00 -1.0000000e+00]]\n"
     ]
    },
    {
     "name": "stderr",
     "output_type": "stream",
     "text": [
      "Error 1100, reqId -1: Connectivity between IBKR and Trader Workstation has been lost.\n",
      "Error 1100, reqId -1: Connectivity between IBKR and Trader Workstation has been lost.\n",
      "Error 1100, reqId -1: Connectivity between IBKR and Trader Workstation has been lost.\n",
      "Error 1102, reqId -1: Connectivity between IBKR and Trader Workstation has been restored - data maintained. All data farms are connected: usfarm.nj; eufarm; usfarm; euhmds; cashhmds; fundfarm; ushmds; secdefnj.\n"
     ]
    }
   ],
   "source": [
    "appl = stock('AAPL', 'SMART', 'USD')\n",
    "amd = stock('AMD', 'SMART', 'USD')\n",
    "applBars = appl.historial('', '3 D', '15 mins', 'MIDPOINT' , False)\n",
    "print(applBars[:2])"
   ]
  },
  {
   "cell_type": "code",
   "execution_count": 27,
   "metadata": {},
   "outputs": [
    {
     "data": {
      "text/plain": [
       "Array([[ 1.7012484e+09,  1.9025000e+02,  1.9025000e+02, ...,\n",
       "        -1.0000000e+00, -1.0000000e+00, -1.0000000e+00],\n",
       "       [ 1.7012493e+09,  1.8989000e+02,  1.9020000e+02, ...,\n",
       "        -1.0000000e+00, -1.0000000e+00, -1.0000000e+00],\n",
       "       [ 1.7012502e+09,  1.9019000e+02,  1.9027000e+02, ...,\n",
       "        -1.0000000e+00, -1.0000000e+00, -1.0000000e+00],\n",
       "       ...,\n",
       "       [ 1.7014761e+09,  1.9128000e+02,  1.9128999e+02, ...,\n",
       "        -1.0000000e+00, -1.0000000e+00, -1.0000000e+00],\n",
       "       [ 1.7014770e+09,  1.9128999e+02,  1.9130000e+02, ...,\n",
       "        -1.0000000e+00, -1.0000000e+00, -1.0000000e+00],\n",
       "       [ 1.7014779e+09,  1.9128999e+02,  1.9133000e+02, ...,\n",
       "        -1.0000000e+00, -1.0000000e+00, -1.0000000e+00]], dtype=float32)"
      ]
     },
     "execution_count": 27,
     "metadata": {},
     "output_type": "execute_result"
    }
   ],
   "source": [
    "applBars"
   ]
  },
  {
   "cell_type": "code",
   "execution_count": 31,
   "metadata": {},
   "outputs": [],
   "source": [
    "import pandas as pd"
   ]
  },
  {
   "cell_type": "code",
   "execution_count": 50,
   "metadata": {},
   "outputs": [
    {
     "data": {
      "text/html": [
       "<div>\n",
       "<style scoped>\n",
       "    .dataframe tbody tr th:only-of-type {\n",
       "        vertical-align: middle;\n",
       "    }\n",
       "\n",
       "    .dataframe tbody tr th {\n",
       "        vertical-align: top;\n",
       "    }\n",
       "\n",
       "    .dataframe thead th {\n",
       "        text-align: right;\n",
       "    }\n",
       "</style>\n",
       "<table border=\"1\" class=\"dataframe\">\n",
       "  <thead>\n",
       "    <tr style=\"text-align: right;\">\n",
       "      <th></th>\n",
       "      <th>0</th>\n",
       "      <th>1</th>\n",
       "      <th>2</th>\n",
       "      <th>3</th>\n",
       "      <th>4</th>\n",
       "      <th>5</th>\n",
       "      <th>6</th>\n",
       "      <th>7</th>\n",
       "    </tr>\n",
       "  </thead>\n",
       "  <tbody>\n",
       "    <tr>\n",
       "      <th>0</th>\n",
       "      <td>1.701248e+09</td>\n",
       "      <td>190.250000</td>\n",
       "      <td>190.250000</td>\n",
       "      <td>189.699997</td>\n",
       "      <td>189.889999</td>\n",
       "      <td>-1.0</td>\n",
       "      <td>-1.0</td>\n",
       "      <td>-1.0</td>\n",
       "    </tr>\n",
       "    <tr>\n",
       "      <th>1</th>\n",
       "      <td>1.701249e+09</td>\n",
       "      <td>189.889999</td>\n",
       "      <td>190.199997</td>\n",
       "      <td>189.830002</td>\n",
       "      <td>190.190002</td>\n",
       "      <td>-1.0</td>\n",
       "      <td>-1.0</td>\n",
       "      <td>-1.0</td>\n",
       "    </tr>\n",
       "    <tr>\n",
       "      <th>2</th>\n",
       "      <td>1.701250e+09</td>\n",
       "      <td>190.190002</td>\n",
       "      <td>190.270004</td>\n",
       "      <td>190.100006</td>\n",
       "      <td>190.119995</td>\n",
       "      <td>-1.0</td>\n",
       "      <td>-1.0</td>\n",
       "      <td>-1.0</td>\n",
       "    </tr>\n",
       "    <tr>\n",
       "      <th>3</th>\n",
       "      <td>1.701251e+09</td>\n",
       "      <td>190.119995</td>\n",
       "      <td>190.339996</td>\n",
       "      <td>190.119995</td>\n",
       "      <td>190.289993</td>\n",
       "      <td>-1.0</td>\n",
       "      <td>-1.0</td>\n",
       "      <td>-1.0</td>\n",
       "    </tr>\n",
       "    <tr>\n",
       "      <th>4</th>\n",
       "      <td>1.701252e+09</td>\n",
       "      <td>190.289993</td>\n",
       "      <td>190.380005</td>\n",
       "      <td>190.279999</td>\n",
       "      <td>190.339996</td>\n",
       "      <td>-1.0</td>\n",
       "      <td>-1.0</td>\n",
       "      <td>-1.0</td>\n",
       "    </tr>\n",
       "  </tbody>\n",
       "</table>\n",
       "</div>"
      ],
      "text/plain": [
       "              0           1           2           3           4    5    6    7\n",
       "0  1.701248e+09  190.250000  190.250000  189.699997  189.889999 -1.0 -1.0 -1.0\n",
       "1  1.701249e+09  189.889999  190.199997  189.830002  190.190002 -1.0 -1.0 -1.0\n",
       "2  1.701250e+09  190.190002  190.270004  190.100006  190.119995 -1.0 -1.0 -1.0\n",
       "3  1.701251e+09  190.119995  190.339996  190.119995  190.289993 -1.0 -1.0 -1.0\n",
       "4  1.701252e+09  190.289993  190.380005  190.279999  190.339996 -1.0 -1.0 -1.0"
      ]
     },
     "execution_count": 50,
     "metadata": {},
     "output_type": "execute_result"
    }
   ],
   "source": [
    "applPD = pd.DataFrame(applBars)\n",
    "applPD.head()"
   ]
  },
  {
   "cell_type": "code",
   "execution_count": 51,
   "metadata": {},
   "outputs": [
    {
     "data": {
      "text/html": [
       "<div>\n",
       "<style scoped>\n",
       "    .dataframe tbody tr th:only-of-type {\n",
       "        vertical-align: middle;\n",
       "    }\n",
       "\n",
       "    .dataframe tbody tr th {\n",
       "        vertical-align: top;\n",
       "    }\n",
       "\n",
       "    .dataframe thead th {\n",
       "        text-align: right;\n",
       "    }\n",
       "</style>\n",
       "<table border=\"1\" class=\"dataframe\">\n",
       "  <thead>\n",
       "    <tr style=\"text-align: right;\">\n",
       "      <th></th>\n",
       "      <th>0</th>\n",
       "      <th>1</th>\n",
       "      <th>2</th>\n",
       "      <th>3</th>\n",
       "      <th>4</th>\n",
       "      <th>5</th>\n",
       "      <th>6</th>\n",
       "      <th>7</th>\n",
       "    </tr>\n",
       "  </thead>\n",
       "  <tbody>\n",
       "    <tr>\n",
       "      <th>0</th>\n",
       "      <td>2023-11-29 08:59:44</td>\n",
       "      <td>190.250000</td>\n",
       "      <td>190.250000</td>\n",
       "      <td>189.699997</td>\n",
       "      <td>189.889999</td>\n",
       "      <td>-1.0</td>\n",
       "      <td>-1.0</td>\n",
       "      <td>-1.0</td>\n",
       "    </tr>\n",
       "    <tr>\n",
       "      <th>1</th>\n",
       "      <td>2023-11-29 09:14:40</td>\n",
       "      <td>189.889999</td>\n",
       "      <td>190.199997</td>\n",
       "      <td>189.830002</td>\n",
       "      <td>190.190002</td>\n",
       "      <td>-1.0</td>\n",
       "      <td>-1.0</td>\n",
       "      <td>-1.0</td>\n",
       "    </tr>\n",
       "    <tr>\n",
       "      <th>2</th>\n",
       "      <td>2023-11-29 09:29:36</td>\n",
       "      <td>190.190002</td>\n",
       "      <td>190.270004</td>\n",
       "      <td>190.100006</td>\n",
       "      <td>190.119995</td>\n",
       "      <td>-1.0</td>\n",
       "      <td>-1.0</td>\n",
       "      <td>-1.0</td>\n",
       "    </tr>\n",
       "    <tr>\n",
       "      <th>3</th>\n",
       "      <td>2023-11-29 09:44:32</td>\n",
       "      <td>190.119995</td>\n",
       "      <td>190.339996</td>\n",
       "      <td>190.119995</td>\n",
       "      <td>190.289993</td>\n",
       "      <td>-1.0</td>\n",
       "      <td>-1.0</td>\n",
       "      <td>-1.0</td>\n",
       "    </tr>\n",
       "    <tr>\n",
       "      <th>4</th>\n",
       "      <td>2023-11-29 09:59:28</td>\n",
       "      <td>190.289993</td>\n",
       "      <td>190.380005</td>\n",
       "      <td>190.279999</td>\n",
       "      <td>190.339996</td>\n",
       "      <td>-1.0</td>\n",
       "      <td>-1.0</td>\n",
       "      <td>-1.0</td>\n",
       "    </tr>\n",
       "  </tbody>\n",
       "</table>\n",
       "</div>"
      ],
      "text/plain": [
       "                    0           1           2           3           4    5  \\\n",
       "0 2023-11-29 08:59:44  190.250000  190.250000  189.699997  189.889999 -1.0   \n",
       "1 2023-11-29 09:14:40  189.889999  190.199997  189.830002  190.190002 -1.0   \n",
       "2 2023-11-29 09:29:36  190.190002  190.270004  190.100006  190.119995 -1.0   \n",
       "3 2023-11-29 09:44:32  190.119995  190.339996  190.119995  190.289993 -1.0   \n",
       "4 2023-11-29 09:59:28  190.289993  190.380005  190.279999  190.339996 -1.0   \n",
       "\n",
       "     6    7  \n",
       "0 -1.0 -1.0  \n",
       "1 -1.0 -1.0  \n",
       "2 -1.0 -1.0  \n",
       "3 -1.0 -1.0  \n",
       "4 -1.0 -1.0  "
      ]
     },
     "execution_count": 51,
     "metadata": {},
     "output_type": "execute_result"
    }
   ],
   "source": [
    "applPD[0] = applPD[0].apply(lambda x: pd.to_datetime(x , unit='s'))"
   ]
  },
  {
   "cell_type": "code",
   "execution_count": 53,
   "metadata": {},
   "outputs": [
    {
     "data": {
      "text/html": [
       "<div>\n",
       "<style scoped>\n",
       "    .dataframe tbody tr th:only-of-type {\n",
       "        vertical-align: middle;\n",
       "    }\n",
       "\n",
       "    .dataframe tbody tr th {\n",
       "        vertical-align: top;\n",
       "    }\n",
       "\n",
       "    .dataframe thead th {\n",
       "        text-align: right;\n",
       "    }\n",
       "</style>\n",
       "<table border=\"1\" class=\"dataframe\">\n",
       "  <thead>\n",
       "    <tr style=\"text-align: right;\">\n",
       "      <th></th>\n",
       "      <th>0</th>\n",
       "      <th>1</th>\n",
       "      <th>2</th>\n",
       "      <th>3</th>\n",
       "      <th>4</th>\n",
       "      <th>5</th>\n",
       "      <th>6</th>\n",
       "      <th>7</th>\n",
       "    </tr>\n",
       "  </thead>\n",
       "  <tbody>\n",
       "    <tr>\n",
       "      <th>187</th>\n",
       "      <td>2023-12-01 23:45:04</td>\n",
       "      <td>191.279999</td>\n",
       "      <td>191.279999</td>\n",
       "      <td>191.240005</td>\n",
       "      <td>191.240005</td>\n",
       "      <td>-1.0</td>\n",
       "      <td>-1.0</td>\n",
       "      <td>-1.0</td>\n",
       "    </tr>\n",
       "    <tr>\n",
       "      <th>188</th>\n",
       "      <td>2023-12-02 00:00:00</td>\n",
       "      <td>191.240005</td>\n",
       "      <td>191.289993</td>\n",
       "      <td>191.240005</td>\n",
       "      <td>191.279999</td>\n",
       "      <td>-1.0</td>\n",
       "      <td>-1.0</td>\n",
       "      <td>-1.0</td>\n",
       "    </tr>\n",
       "    <tr>\n",
       "      <th>189</th>\n",
       "      <td>2023-12-02 00:14:56</td>\n",
       "      <td>191.279999</td>\n",
       "      <td>191.289993</td>\n",
       "      <td>191.279999</td>\n",
       "      <td>191.289993</td>\n",
       "      <td>-1.0</td>\n",
       "      <td>-1.0</td>\n",
       "      <td>-1.0</td>\n",
       "    </tr>\n",
       "    <tr>\n",
       "      <th>190</th>\n",
       "      <td>2023-12-02 00:29:52</td>\n",
       "      <td>191.289993</td>\n",
       "      <td>191.300003</td>\n",
       "      <td>191.279999</td>\n",
       "      <td>191.289993</td>\n",
       "      <td>-1.0</td>\n",
       "      <td>-1.0</td>\n",
       "      <td>-1.0</td>\n",
       "    </tr>\n",
       "    <tr>\n",
       "      <th>191</th>\n",
       "      <td>2023-12-02 00:44:48</td>\n",
       "      <td>191.289993</td>\n",
       "      <td>191.330002</td>\n",
       "      <td>191.259995</td>\n",
       "      <td>191.309998</td>\n",
       "      <td>-1.0</td>\n",
       "      <td>-1.0</td>\n",
       "      <td>-1.0</td>\n",
       "    </tr>\n",
       "  </tbody>\n",
       "</table>\n",
       "</div>"
      ],
      "text/plain": [
       "                      0           1           2           3           4    5  \\\n",
       "187 2023-12-01 23:45:04  191.279999  191.279999  191.240005  191.240005 -1.0   \n",
       "188 2023-12-02 00:00:00  191.240005  191.289993  191.240005  191.279999 -1.0   \n",
       "189 2023-12-02 00:14:56  191.279999  191.289993  191.279999  191.289993 -1.0   \n",
       "190 2023-12-02 00:29:52  191.289993  191.300003  191.279999  191.289993 -1.0   \n",
       "191 2023-12-02 00:44:48  191.289993  191.330002  191.259995  191.309998 -1.0   \n",
       "\n",
       "       6    7  \n",
       "187 -1.0 -1.0  \n",
       "188 -1.0 -1.0  \n",
       "189 -1.0 -1.0  \n",
       "190 -1.0 -1.0  \n",
       "191 -1.0 -1.0  "
      ]
     },
     "execution_count": 53,
     "metadata": {},
     "output_type": "execute_result"
    }
   ],
   "source": [
    "applPD.tail()"
   ]
  },
  {
   "cell_type": "code",
   "execution_count": null,
   "metadata": {},
   "outputs": [],
   "source": []
  }
 ],
 "metadata": {
  "kernelspec": {
   "display_name": "tf",
   "language": "python",
   "name": "python3"
  },
  "language_info": {
   "codemirror_mode": {
    "name": "ipython",
    "version": 3
   },
   "file_extension": ".py",
   "mimetype": "text/x-python",
   "name": "python",
   "nbconvert_exporter": "python",
   "pygments_lexer": "ipython3",
   "version": "3.12.0"
  },
  "orig_nbformat": 4
 },
 "nbformat": 4,
 "nbformat_minor": 2
}
